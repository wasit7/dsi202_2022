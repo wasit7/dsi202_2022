{
 "cells": [
  {
   "cell_type": "code",
   "execution_count": 5,
   "id": "42f7d6ca",
   "metadata": {},
   "outputs": [],
   "source": [
    "import libscrc\n",
    "import qrcode\n",
    "\n",
    "def calculate_crc(code):\n",
    "    crc = libscrc.ccitt_false(str.encode(code))\n",
    "    crc = str(hex(crc))\n",
    "    crc = crc[2:].upper()\n",
    "    return crc.rjust(4, '0')\n",
    "\n",
    "def gen_code(mobile=\"\", nid=\"\", amount=1.23):\n",
    "    code=\"00020101021153037645802TH29370016A000000677010111\"\n",
    "    if mobile:\n",
    "        tag,value = 1,\"0066\"+mobile[1:]\n",
    "        seller='{:02d}{:02d}{}'.format(tag,len(value), value)\n",
    "    elif nid:\n",
    "        tag,value = 2,nid\n",
    "        seller='{:02d}{:02d}{}'.format(tag,len(value), value)\n",
    "    else:\n",
    "        raise Exception(\"Error: gen_code() does not get seller mandatory details\")\n",
    "    code+=seller\n",
    "    tag,value = 54, '{:.2f}'.format(amount)\n",
    "    code+='{:02d}{:02d}{}'.format(tag,len(value), value)\n",
    "    code+='6304'\n",
    "    code+=calculate_crc(code)\n",
    "    return code"
   ]
  },
  {
   "cell_type": "code",
   "execution_count": 6,
   "id": "caa3250c",
   "metadata": {},
   "outputs": [
    {
     "name": "stdout",
     "output_type": "stream",
     "text": [
      "00020101021153037645802TH29370016A0000006770101110113006682663920654041.2363046024\n"
     ]
    },
    {
     "data": {
      "image/png": "[encoded data removed]",
      "text/plain": [
       "<IPython.core.display.Image object>"
      ]
     },
     "execution_count": 6,
     "metadata": {},
     "output_type": "execute_result"
    }
   ],
   "source": [
    "from IPython.display import Image\n",
    "code=gen_code(mobile=\"0826639206\", amount=1.23)#scb\n",
    "print(code)\n",
    "img = qrcode.make(code,box_size=4)\n",
    "img.save('qr.png')\n",
    "Image(filename='qr.png') "
   ]
  },
  {
   "cell_type": "code",
   "execution_count": null,
   "id": "4ba6783f",
   "metadata": {},
   "outputs": [],
   "source": []
  }
 ],
 "metadata": {
  "kernelspec": {
   "display_name": "Python 3",
   "language": "python",
   "name": "python3"
  },
  "language_info": {
   "codemirror_mode": {
    "name": "ipython",
    "version": 3
   },
   "file_extension": ".py",
   "mimetype": "text/x-python",
   "name": "python",
   "nbconvert_exporter": "python",
   "pygments_lexer": "ipython3",
   "version": "3.8.12"
  }
 },
 "nbformat": 4,
 "nbformat_minor": 5
}
